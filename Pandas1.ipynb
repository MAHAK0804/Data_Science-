{
  "cells": [
    {
      "cell_type": "code",
      "execution_count": 1,
      "metadata": {
        "id": "vQsbxGWpwsve"
      },
      "outputs": [],
      "source": [
        "import pandas as pd"
      ]
    },
    {
      "cell_type": "code",
      "execution_count": 4,
      "metadata": {
        "id": "TIrs2Gutw4DI"
      },
      "outputs": [],
      "source": [
        "ds = pd.read_csv(\"C:\\\\Users\\\\Hp\\\\Desktop\\\\Data_science-main\\\\Datasets\\\\weather_data.csv\")"
      ]
    },
    {
      "cell_type": "code",
      "execution_count": 5,
      "metadata": {
        "colab": {
          "base_uri": "https://localhost:8080/",
          "height": 424
        },
        "id": "xlaVw9qEw8UA",
        "outputId": "7db8f5d9-efe0-44a9-b035-33b11df274e3"
      },
      "outputs": [
        {
          "data": {
            "text/html": [
              "<div>\n",
              "<style scoped>\n",
              "    .dataframe tbody tr th:only-of-type {\n",
              "        vertical-align: middle;\n",
              "    }\n",
              "\n",
              "    .dataframe tbody tr th {\n",
              "        vertical-align: top;\n",
              "    }\n",
              "\n",
              "    .dataframe thead th {\n",
              "        text-align: right;\n",
              "    }\n",
              "</style>\n",
              "<table border=\"1\" class=\"dataframe\">\n",
              "  <thead>\n",
              "    <tr style=\"text-align: right;\">\n",
              "      <th></th>\n",
              "      <th>Location</th>\n",
              "      <th>Date_Time</th>\n",
              "      <th>Temperature_C</th>\n",
              "      <th>Humidity_pct</th>\n",
              "      <th>Precipitation_mm</th>\n",
              "      <th>Wind_Speed_kmh</th>\n",
              "    </tr>\n",
              "  </thead>\n",
              "  <tbody>\n",
              "    <tr>\n",
              "      <th>0</th>\n",
              "      <td>San Diego</td>\n",
              "      <td>14-01-2024 21:12</td>\n",
              "      <td>-999999</td>\n",
              "      <td>41.195754</td>\n",
              "      <td>4.020119</td>\n",
              "      <td>8.233540247mph</td>\n",
              "    </tr>\n",
              "    <tr>\n",
              "      <th>1</th>\n",
              "      <td>San Diego</td>\n",
              "      <td>17-05-2024 15:22</td>\n",
              "      <td>8.734139782C</td>\n",
              "      <td>58.319107</td>\n",
              "      <td>9.111623</td>\n",
              "      <td>27.71516126mph</td>\n",
              "    </tr>\n",
              "    <tr>\n",
              "      <th>2</th>\n",
              "      <td>San Diego</td>\n",
              "      <td>11-05-2024 09:30</td>\n",
              "      <td>11.63243631</td>\n",
              "      <td>38.820175</td>\n",
              "      <td>4.607511</td>\n",
              "      <td>28.73295129</td>\n",
              "    </tr>\n",
              "    <tr>\n",
              "      <th>3</th>\n",
              "      <td>Philadelphia</td>\n",
              "      <td>26-02-2024 17:32</td>\n",
              "      <td>-8.628975896</td>\n",
              "      <td>-999999.000000</td>\n",
              "      <td>3.183720</td>\n",
              "      <td>26.36730267</td>\n",
              "    </tr>\n",
              "  </tbody>\n",
              "</table>\n",
              "</div>"
            ],
            "text/plain": [
              "       Location         Date_Time Temperature_C   Humidity_pct  \\\n",
              "0     San Diego  14-01-2024 21:12       -999999      41.195754   \n",
              "1     San Diego  17-05-2024 15:22  8.734139782C      58.319107   \n",
              "2     San Diego  11-05-2024 09:30   11.63243631      38.820175   \n",
              "3  Philadelphia  26-02-2024 17:32  -8.628975896 -999999.000000   \n",
              "\n",
              "   Precipitation_mm  Wind_Speed_kmh  \n",
              "0          4.020119  8.233540247mph  \n",
              "1          9.111623  27.71516126mph  \n",
              "2          4.607511     28.73295129  \n",
              "3          3.183720     26.36730267  "
            ]
          },
          "execution_count": 5,
          "metadata": {},
          "output_type": "execute_result"
        }
      ],
      "source": [
        "ds"
      ]
    },
    {
      "cell_type": "code",
      "execution_count": 6,
      "metadata": {
        "colab": {
          "base_uri": "https://localhost:8080/"
        },
        "id": "8Sdgs-2AWSuA",
        "outputId": "effe54bf-6a06-488e-abfd-5b6f5c21731b"
      },
      "outputs": [
        {
          "data": {
            "text/plain": [
              "'8.734139782C'"
            ]
          },
          "execution_count": 6,
          "metadata": {},
          "output_type": "execute_result"
        }
      ],
      "source": [
        "ds['Temperature_C'].max()"
      ]
    },
    {
      "cell_type": "code",
      "execution_count": 7,
      "metadata": {
        "colab": {
          "base_uri": "https://localhost:8080/"
        },
        "id": "-3HUaDxpWag7",
        "outputId": "36c184a1-464b-4191-e411-dd6e73c68db8"
      },
      "outputs": [
        {
          "data": {
            "text/plain": [
              "0    41.195754\n",
              "1    58.319107\n",
              "2    38.820175\n",
              "Name: Humidity_pct, dtype: float64"
            ]
          },
          "execution_count": 7,
          "metadata": {},
          "output_type": "execute_result"
        }
      ],
      "source": [
        "ds['Humidity_pct'][ds['Location']=='San Diego']"
      ]
    },
    {
      "cell_type": "code",
      "execution_count": 9,
      "metadata": {
        "colab": {
          "base_uri": "https://localhost:8080/"
        },
        "id": "kKZwUmCtXPOT",
        "outputId": "4667aa5f-3de1-42cf-cce2-1353f799c25f"
      },
      "outputs": [],
      "source": [
        "# ds.fillna(0,inplace=True)\n",
        "# ds['Wind_Speed_kmh'].mean()"
      ]
    }
  ],
  "metadata": {
    "colab": {
      "provenance": []
    },
    "kernelspec": {
      "display_name": "Python 3",
      "name": "python3"
    },
    "language_info": {
      "codemirror_mode": {
        "name": "ipython",
        "version": 3
      },
      "file_extension": ".py",
      "mimetype": "text/x-python",
      "name": "python",
      "nbconvert_exporter": "python",
      "pygments_lexer": "ipython3",
      "version": "3.12.4"
    }
  },
  "nbformat": 4,
  "nbformat_minor": 0
}
