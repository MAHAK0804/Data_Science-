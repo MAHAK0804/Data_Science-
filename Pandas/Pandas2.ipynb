{
 "cells": [
  {
   "cell_type": "code",
   "execution_count": 1,
   "metadata": {},
   "outputs": [],
   "source": [
    "import pandas as pd"
   ]
  },
  {
   "cell_type": "code",
   "execution_count": 2,
   "metadata": {},
   "outputs": [
    {
     "data": {
      "text/html": [
       "<div>\n",
       "<style scoped>\n",
       "    .dataframe tbody tr th:only-of-type {\n",
       "        vertical-align: middle;\n",
       "    }\n",
       "\n",
       "    .dataframe tbody tr th {\n",
       "        vertical-align: top;\n",
       "    }\n",
       "\n",
       "    .dataframe thead th {\n",
       "        text-align: right;\n",
       "    }\n",
       "</style>\n",
       "<table border=\"1\" class=\"dataframe\">\n",
       "  <thead>\n",
       "    <tr style=\"text-align: right;\">\n",
       "      <th></th>\n",
       "      <th>Location</th>\n",
       "      <th>Date_Time</th>\n",
       "      <th>Temperature_C</th>\n",
       "      <th>Humidity_pct</th>\n",
       "      <th>Precipitation_mm</th>\n",
       "      <th>Wind_Speed_kmh</th>\n",
       "    </tr>\n",
       "  </thead>\n",
       "  <tbody>\n",
       "    <tr>\n",
       "      <th>0</th>\n",
       "      <td>San Diego</td>\n",
       "      <td>14-01-2024 21:12</td>\n",
       "      <td>-999999</td>\n",
       "      <td>41.195754</td>\n",
       "      <td>4.020119</td>\n",
       "      <td>8.233540247mph</td>\n",
       "    </tr>\n",
       "    <tr>\n",
       "      <th>1</th>\n",
       "      <td>San Diego</td>\n",
       "      <td>17-05-2024 15:22</td>\n",
       "      <td>8.734139782C</td>\n",
       "      <td>58.319107</td>\n",
       "      <td>9.111623</td>\n",
       "      <td>27.71516126mph</td>\n",
       "    </tr>\n",
       "    <tr>\n",
       "      <th>2</th>\n",
       "      <td>San Diego</td>\n",
       "      <td>11-05-2024 09:30</td>\n",
       "      <td>11.63243631</td>\n",
       "      <td>38.820175</td>\n",
       "      <td>4.607511</td>\n",
       "      <td>28.73295129</td>\n",
       "    </tr>\n",
       "    <tr>\n",
       "      <th>3</th>\n",
       "      <td>Philadelphia</td>\n",
       "      <td>26-02-2024 17:32</td>\n",
       "      <td>-8.628975896</td>\n",
       "      <td>-999999.000000</td>\n",
       "      <td>3.183720</td>\n",
       "      <td>26.36730267</td>\n",
       "    </tr>\n",
       "  </tbody>\n",
       "</table>\n",
       "</div>"
      ],
      "text/plain": [
       "       Location         Date_Time Temperature_C   Humidity_pct  \\\n",
       "0     San Diego  14-01-2024 21:12       -999999      41.195754   \n",
       "1     San Diego  17-05-2024 15:22  8.734139782C      58.319107   \n",
       "2     San Diego  11-05-2024 09:30   11.63243631      38.820175   \n",
       "3  Philadelphia  26-02-2024 17:32  -8.628975896 -999999.000000   \n",
       "\n",
       "   Precipitation_mm  Wind_Speed_kmh  \n",
       "0          4.020119  8.233540247mph  \n",
       "1          9.111623  27.71516126mph  \n",
       "2          4.607511     28.73295129  \n",
       "3          3.183720     26.36730267  "
      ]
     },
     "execution_count": 2,
     "metadata": {},
     "output_type": "execute_result"
    }
   ],
   "source": [
    "df = pd.read_csv('C:\\\\Users\\\\Hp\\\\Desktop\\\\Data_science-main\\\\Datasets\\\\weather_data.csv')\n",
    "df"
   ]
  },
  {
   "cell_type": "code",
   "execution_count": 3,
   "metadata": {},
   "outputs": [],
   "source": [
    "rows, columns = df.shape"
   ]
  },
  {
   "cell_type": "code",
   "execution_count": 4,
   "metadata": {},
   "outputs": [
    {
     "data": {
      "text/plain": [
       "4"
      ]
     },
     "execution_count": 4,
     "metadata": {},
     "output_type": "execute_result"
    }
   ],
   "source": [
    "rows"
   ]
  },
  {
   "cell_type": "code",
   "execution_count": 5,
   "metadata": {},
   "outputs": [
    {
     "data": {
      "text/plain": [
       "6"
      ]
     },
     "execution_count": 5,
     "metadata": {},
     "output_type": "execute_result"
    }
   ],
   "source": [
    "columns"
   ]
  },
  {
   "cell_type": "code",
   "execution_count": 6,
   "metadata": {},
   "outputs": [
    {
     "data": {
      "text/html": [
       "<div>\n",
       "<style scoped>\n",
       "    .dataframe tbody tr th:only-of-type {\n",
       "        vertical-align: middle;\n",
       "    }\n",
       "\n",
       "    .dataframe tbody tr th {\n",
       "        vertical-align: top;\n",
       "    }\n",
       "\n",
       "    .dataframe thead th {\n",
       "        text-align: right;\n",
       "    }\n",
       "</style>\n",
       "<table border=\"1\" class=\"dataframe\">\n",
       "  <thead>\n",
       "    <tr style=\"text-align: right;\">\n",
       "      <th></th>\n",
       "      <th>Location</th>\n",
       "      <th>Date_Time</th>\n",
       "      <th>Temperature_C</th>\n",
       "      <th>Humidity_pct</th>\n",
       "      <th>Precipitation_mm</th>\n",
       "      <th>Wind_Speed_kmh</th>\n",
       "    </tr>\n",
       "  </thead>\n",
       "  <tbody>\n",
       "    <tr>\n",
       "      <th>0</th>\n",
       "      <td>San Diego</td>\n",
       "      <td>14-01-2024 21:12</td>\n",
       "      <td>-999999</td>\n",
       "      <td>41.195754</td>\n",
       "      <td>4.020119</td>\n",
       "      <td>8.233540247mph</td>\n",
       "    </tr>\n",
       "    <tr>\n",
       "      <th>1</th>\n",
       "      <td>San Diego</td>\n",
       "      <td>17-05-2024 15:22</td>\n",
       "      <td>8.734139782C</td>\n",
       "      <td>58.319107</td>\n",
       "      <td>9.111623</td>\n",
       "      <td>27.71516126mph</td>\n",
       "    </tr>\n",
       "    <tr>\n",
       "      <th>2</th>\n",
       "      <td>San Diego</td>\n",
       "      <td>11-05-2024 09:30</td>\n",
       "      <td>11.63243631</td>\n",
       "      <td>38.820175</td>\n",
       "      <td>4.607511</td>\n",
       "      <td>28.73295129</td>\n",
       "    </tr>\n",
       "    <tr>\n",
       "      <th>3</th>\n",
       "      <td>Philadelphia</td>\n",
       "      <td>26-02-2024 17:32</td>\n",
       "      <td>-8.628975896</td>\n",
       "      <td>-999999.000000</td>\n",
       "      <td>3.183720</td>\n",
       "      <td>26.36730267</td>\n",
       "    </tr>\n",
       "  </tbody>\n",
       "</table>\n",
       "</div>"
      ],
      "text/plain": [
       "       Location         Date_Time Temperature_C   Humidity_pct  \\\n",
       "0     San Diego  14-01-2024 21:12       -999999      41.195754   \n",
       "1     San Diego  17-05-2024 15:22  8.734139782C      58.319107   \n",
       "2     San Diego  11-05-2024 09:30   11.63243631      38.820175   \n",
       "3  Philadelphia  26-02-2024 17:32  -8.628975896 -999999.000000   \n",
       "\n",
       "   Precipitation_mm  Wind_Speed_kmh  \n",
       "0          4.020119  8.233540247mph  \n",
       "1          9.111623  27.71516126mph  \n",
       "2          4.607511     28.73295129  \n",
       "3          3.183720     26.36730267  "
      ]
     },
     "execution_count": 6,
     "metadata": {},
     "output_type": "execute_result"
    }
   ],
   "source": [
    "df.head()"
   ]
  },
  {
   "cell_type": "code",
   "execution_count": 7,
   "metadata": {},
   "outputs": [
    {
     "data": {
      "text/html": [
       "<div>\n",
       "<style scoped>\n",
       "    .dataframe tbody tr th:only-of-type {\n",
       "        vertical-align: middle;\n",
       "    }\n",
       "\n",
       "    .dataframe tbody tr th {\n",
       "        vertical-align: top;\n",
       "    }\n",
       "\n",
       "    .dataframe thead th {\n",
       "        text-align: right;\n",
       "    }\n",
       "</style>\n",
       "<table border=\"1\" class=\"dataframe\">\n",
       "  <thead>\n",
       "    <tr style=\"text-align: right;\">\n",
       "      <th></th>\n",
       "      <th>Location</th>\n",
       "      <th>Date_Time</th>\n",
       "      <th>Temperature_C</th>\n",
       "      <th>Humidity_pct</th>\n",
       "      <th>Precipitation_mm</th>\n",
       "      <th>Wind_Speed_kmh</th>\n",
       "    </tr>\n",
       "  </thead>\n",
       "  <tbody>\n",
       "    <tr>\n",
       "      <th>0</th>\n",
       "      <td>San Diego</td>\n",
       "      <td>14-01-2024 21:12</td>\n",
       "      <td>-999999</td>\n",
       "      <td>41.195754</td>\n",
       "      <td>4.020119</td>\n",
       "      <td>8.233540247mph</td>\n",
       "    </tr>\n",
       "    <tr>\n",
       "      <th>1</th>\n",
       "      <td>San Diego</td>\n",
       "      <td>17-05-2024 15:22</td>\n",
       "      <td>8.734139782C</td>\n",
       "      <td>58.319107</td>\n",
       "      <td>9.111623</td>\n",
       "      <td>27.71516126mph</td>\n",
       "    </tr>\n",
       "    <tr>\n",
       "      <th>2</th>\n",
       "      <td>San Diego</td>\n",
       "      <td>11-05-2024 09:30</td>\n",
       "      <td>11.63243631</td>\n",
       "      <td>38.820175</td>\n",
       "      <td>4.607511</td>\n",
       "      <td>28.73295129</td>\n",
       "    </tr>\n",
       "    <tr>\n",
       "      <th>3</th>\n",
       "      <td>Philadelphia</td>\n",
       "      <td>26-02-2024 17:32</td>\n",
       "      <td>-8.628975896</td>\n",
       "      <td>-999999.000000</td>\n",
       "      <td>3.183720</td>\n",
       "      <td>26.36730267</td>\n",
       "    </tr>\n",
       "  </tbody>\n",
       "</table>\n",
       "</div>"
      ],
      "text/plain": [
       "       Location         Date_Time Temperature_C   Humidity_pct  \\\n",
       "0     San Diego  14-01-2024 21:12       -999999      41.195754   \n",
       "1     San Diego  17-05-2024 15:22  8.734139782C      58.319107   \n",
       "2     San Diego  11-05-2024 09:30   11.63243631      38.820175   \n",
       "3  Philadelphia  26-02-2024 17:32  -8.628975896 -999999.000000   \n",
       "\n",
       "   Precipitation_mm  Wind_Speed_kmh  \n",
       "0          4.020119  8.233540247mph  \n",
       "1          9.111623  27.71516126mph  \n",
       "2          4.607511     28.73295129  \n",
       "3          3.183720     26.36730267  "
      ]
     },
     "execution_count": 7,
     "metadata": {},
     "output_type": "execute_result"
    }
   ],
   "source": [
    "df.tail()"
   ]
  },
  {
   "cell_type": "code",
   "execution_count": 8,
   "metadata": {},
   "outputs": [
    {
     "data": {
      "text/plain": [
       "Index(['Location', 'Date_Time', 'Temperature_C', 'Humidity_pct',\n",
       "       'Precipitation_mm', 'Wind_Speed_kmh'],\n",
       "      dtype='object')"
      ]
     },
     "execution_count": 8,
     "metadata": {},
     "output_type": "execute_result"
    }
   ],
   "source": [
    "df.columns"
   ]
  },
  {
   "cell_type": "code",
   "execution_count": 9,
   "metadata": {},
   "outputs": [
    {
     "data": {
      "text/html": [
       "<div>\n",
       "<style scoped>\n",
       "    .dataframe tbody tr th:only-of-type {\n",
       "        vertical-align: middle;\n",
       "    }\n",
       "\n",
       "    .dataframe tbody tr th {\n",
       "        vertical-align: top;\n",
       "    }\n",
       "\n",
       "    .dataframe thead th {\n",
       "        text-align: right;\n",
       "    }\n",
       "</style>\n",
       "<table border=\"1\" class=\"dataframe\">\n",
       "  <thead>\n",
       "    <tr style=\"text-align: right;\">\n",
       "      <th></th>\n",
       "      <th>Humidity_pct</th>\n",
       "      <th>Precipitation_mm</th>\n",
       "    </tr>\n",
       "  </thead>\n",
       "  <tbody>\n",
       "    <tr>\n",
       "      <th>count</th>\n",
       "      <td>4.000000</td>\n",
       "      <td>4.000000</td>\n",
       "    </tr>\n",
       "    <tr>\n",
       "      <th>mean</th>\n",
       "      <td>-249965.166241</td>\n",
       "      <td>5.230743</td>\n",
       "    </tr>\n",
       "    <tr>\n",
       "      <th>std</th>\n",
       "      <td>500022.555915</td>\n",
       "      <td>2.652393</td>\n",
       "    </tr>\n",
       "    <tr>\n",
       "      <th>min</th>\n",
       "      <td>-999999.000000</td>\n",
       "      <td>3.183720</td>\n",
       "    </tr>\n",
       "    <tr>\n",
       "      <th>25%</th>\n",
       "      <td>-249970.634869</td>\n",
       "      <td>3.811019</td>\n",
       "    </tr>\n",
       "    <tr>\n",
       "      <th>50%</th>\n",
       "      <td>40.007964</td>\n",
       "      <td>4.313815</td>\n",
       "    </tr>\n",
       "    <tr>\n",
       "      <th>75%</th>\n",
       "      <td>45.476592</td>\n",
       "      <td>5.733539</td>\n",
       "    </tr>\n",
       "    <tr>\n",
       "      <th>max</th>\n",
       "      <td>58.319107</td>\n",
       "      <td>9.111623</td>\n",
       "    </tr>\n",
       "  </tbody>\n",
       "</table>\n",
       "</div>"
      ],
      "text/plain": [
       "        Humidity_pct  Precipitation_mm\n",
       "count       4.000000          4.000000\n",
       "mean  -249965.166241          5.230743\n",
       "std    500022.555915          2.652393\n",
       "min   -999999.000000          3.183720\n",
       "25%   -249970.634869          3.811019\n",
       "50%        40.007964          4.313815\n",
       "75%        45.476592          5.733539\n",
       "max        58.319107          9.111623"
      ]
     },
     "execution_count": 9,
     "metadata": {},
     "output_type": "execute_result"
    }
   ],
   "source": [
    "df.describe()"
   ]
  },
  {
   "cell_type": "code",
   "execution_count": 10,
   "metadata": {},
   "outputs": [
    {
     "data": {
      "text/html": [
       "<div>\n",
       "<style scoped>\n",
       "    .dataframe tbody tr th:only-of-type {\n",
       "        vertical-align: middle;\n",
       "    }\n",
       "\n",
       "    .dataframe tbody tr th {\n",
       "        vertical-align: top;\n",
       "    }\n",
       "\n",
       "    .dataframe thead th {\n",
       "        text-align: right;\n",
       "    }\n",
       "</style>\n",
       "<table border=\"1\" class=\"dataframe\">\n",
       "  <thead>\n",
       "    <tr style=\"text-align: right;\">\n",
       "      <th></th>\n",
       "      <th>Location</th>\n",
       "      <th>Date_Time</th>\n",
       "      <th>Temperature_C</th>\n",
       "      <th>Humidity_pct</th>\n",
       "      <th>Precipitation_mm</th>\n",
       "      <th>Wind_Speed_kmh</th>\n",
       "    </tr>\n",
       "  </thead>\n",
       "  <tbody>\n",
       "    <tr>\n",
       "      <th>0</th>\n",
       "      <td>San Diego</td>\n",
       "      <td>14-01-2024 21:12</td>\n",
       "      <td>-999999</td>\n",
       "      <td>41.195754</td>\n",
       "      <td>4.020119</td>\n",
       "      <td>8.233540247mph</td>\n",
       "    </tr>\n",
       "    <tr>\n",
       "      <th>1</th>\n",
       "      <td>San Diego</td>\n",
       "      <td>17-05-2024 15:22</td>\n",
       "      <td>8.734139782C</td>\n",
       "      <td>58.319107</td>\n",
       "      <td>9.111623</td>\n",
       "      <td>27.71516126mph</td>\n",
       "    </tr>\n",
       "    <tr>\n",
       "      <th>2</th>\n",
       "      <td>San Diego</td>\n",
       "      <td>11-05-2024 09:30</td>\n",
       "      <td>11.63243631</td>\n",
       "      <td>38.820175</td>\n",
       "      <td>4.607511</td>\n",
       "      <td>28.73295129</td>\n",
       "    </tr>\n",
       "    <tr>\n",
       "      <th>3</th>\n",
       "      <td>Philadelphia</td>\n",
       "      <td>26-02-2024 17:32</td>\n",
       "      <td>-8.628975896</td>\n",
       "      <td>-999999.000000</td>\n",
       "      <td>3.183720</td>\n",
       "      <td>26.36730267</td>\n",
       "    </tr>\n",
       "  </tbody>\n",
       "</table>\n",
       "</div>"
      ],
      "text/plain": [
       "       Location         Date_Time Temperature_C   Humidity_pct  \\\n",
       "0     San Diego  14-01-2024 21:12       -999999      41.195754   \n",
       "1     San Diego  17-05-2024 15:22  8.734139782C      58.319107   \n",
       "2     San Diego  11-05-2024 09:30   11.63243631      38.820175   \n",
       "3  Philadelphia  26-02-2024 17:32  -8.628975896 -999999.000000   \n",
       "\n",
       "   Precipitation_mm  Wind_Speed_kmh  \n",
       "0          4.020119  8.233540247mph  \n",
       "1          9.111623  27.71516126mph  \n",
       "2          4.607511     28.73295129  \n",
       "3          3.183720     26.36730267  "
      ]
     },
     "execution_count": 10,
     "metadata": {},
     "output_type": "execute_result"
    }
   ],
   "source": [
    "df"
   ]
  },
  {
   "cell_type": "code",
   "execution_count": 11,
   "metadata": {},
   "outputs": [],
   "source": [
    "df.set_index('Date_Time',inplace=True)"
   ]
  },
  {
   "cell_type": "code",
   "execution_count": 12,
   "metadata": {},
   "outputs": [
    {
     "data": {
      "text/html": [
       "<div>\n",
       "<style scoped>\n",
       "    .dataframe tbody tr th:only-of-type {\n",
       "        vertical-align: middle;\n",
       "    }\n",
       "\n",
       "    .dataframe tbody tr th {\n",
       "        vertical-align: top;\n",
       "    }\n",
       "\n",
       "    .dataframe thead th {\n",
       "        text-align: right;\n",
       "    }\n",
       "</style>\n",
       "<table border=\"1\" class=\"dataframe\">\n",
       "  <thead>\n",
       "    <tr style=\"text-align: right;\">\n",
       "      <th></th>\n",
       "      <th>Location</th>\n",
       "      <th>Temperature_C</th>\n",
       "      <th>Humidity_pct</th>\n",
       "      <th>Precipitation_mm</th>\n",
       "      <th>Wind_Speed_kmh</th>\n",
       "    </tr>\n",
       "    <tr>\n",
       "      <th>Date_Time</th>\n",
       "      <th></th>\n",
       "      <th></th>\n",
       "      <th></th>\n",
       "      <th></th>\n",
       "      <th></th>\n",
       "    </tr>\n",
       "  </thead>\n",
       "  <tbody>\n",
       "    <tr>\n",
       "      <th>14-01-2024 21:12</th>\n",
       "      <td>San Diego</td>\n",
       "      <td>-999999</td>\n",
       "      <td>41.195754</td>\n",
       "      <td>4.020119</td>\n",
       "      <td>8.233540247mph</td>\n",
       "    </tr>\n",
       "    <tr>\n",
       "      <th>17-05-2024 15:22</th>\n",
       "      <td>San Diego</td>\n",
       "      <td>8.734139782C</td>\n",
       "      <td>58.319107</td>\n",
       "      <td>9.111623</td>\n",
       "      <td>27.71516126mph</td>\n",
       "    </tr>\n",
       "    <tr>\n",
       "      <th>11-05-2024 09:30</th>\n",
       "      <td>San Diego</td>\n",
       "      <td>11.63243631</td>\n",
       "      <td>38.820175</td>\n",
       "      <td>4.607511</td>\n",
       "      <td>28.73295129</td>\n",
       "    </tr>\n",
       "    <tr>\n",
       "      <th>26-02-2024 17:32</th>\n",
       "      <td>Philadelphia</td>\n",
       "      <td>-8.628975896</td>\n",
       "      <td>-999999.000000</td>\n",
       "      <td>3.183720</td>\n",
       "      <td>26.36730267</td>\n",
       "    </tr>\n",
       "  </tbody>\n",
       "</table>\n",
       "</div>"
      ],
      "text/plain": [
       "                      Location Temperature_C   Humidity_pct  Precipitation_mm  \\\n",
       "Date_Time                                                                       \n",
       "14-01-2024 21:12     San Diego       -999999      41.195754          4.020119   \n",
       "17-05-2024 15:22     San Diego  8.734139782C      58.319107          9.111623   \n",
       "11-05-2024 09:30     San Diego   11.63243631      38.820175          4.607511   \n",
       "26-02-2024 17:32  Philadelphia  -8.628975896 -999999.000000          3.183720   \n",
       "\n",
       "                  Wind_Speed_kmh  \n",
       "Date_Time                         \n",
       "14-01-2024 21:12  8.233540247mph  \n",
       "17-05-2024 15:22  27.71516126mph  \n",
       "11-05-2024 09:30     28.73295129  \n",
       "26-02-2024 17:32     26.36730267  "
      ]
     },
     "execution_count": 12,
     "metadata": {},
     "output_type": "execute_result"
    }
   ],
   "source": [
    "df"
   ]
  },
  {
   "cell_type": "code",
   "execution_count": 14,
   "metadata": {},
   "outputs": [
    {
     "data": {
      "text/plain": [
       "Location                 San Diego\n",
       "Temperature_C         8.734139782C\n",
       "Humidity_pct             58.319107\n",
       "Precipitation_mm          9.111623\n",
       "Wind_Speed_kmh      27.71516126mph\n",
       "Name: 17-05-2024 15:22, dtype: object"
      ]
     },
     "execution_count": 14,
     "metadata": {},
     "output_type": "execute_result"
    }
   ],
   "source": [
    "df.loc['17-05-2024 15:22']"
   ]
  },
  {
   "cell_type": "code",
   "execution_count": 15,
   "metadata": {},
   "outputs": [
    {
     "data": {
      "text/html": [
       "<div>\n",
       "<style scoped>\n",
       "    .dataframe tbody tr th:only-of-type {\n",
       "        vertical-align: middle;\n",
       "    }\n",
       "\n",
       "    .dataframe tbody tr th {\n",
       "        vertical-align: top;\n",
       "    }\n",
       "\n",
       "    .dataframe thead th {\n",
       "        text-align: right;\n",
       "    }\n",
       "</style>\n",
       "<table border=\"1\" class=\"dataframe\">\n",
       "  <thead>\n",
       "    <tr style=\"text-align: right;\">\n",
       "      <th></th>\n",
       "      <th>Date_Time</th>\n",
       "      <th>Location</th>\n",
       "      <th>Temperature_C</th>\n",
       "      <th>Humidity_pct</th>\n",
       "      <th>Precipitation_mm</th>\n",
       "      <th>Wind_Speed_kmh</th>\n",
       "    </tr>\n",
       "  </thead>\n",
       "  <tbody>\n",
       "    <tr>\n",
       "      <th>0</th>\n",
       "      <td>14-01-2024 21:12</td>\n",
       "      <td>San Diego</td>\n",
       "      <td>-999999</td>\n",
       "      <td>41.195754</td>\n",
       "      <td>4.020119</td>\n",
       "      <td>8.233540247mph</td>\n",
       "    </tr>\n",
       "    <tr>\n",
       "      <th>1</th>\n",
       "      <td>17-05-2024 15:22</td>\n",
       "      <td>San Diego</td>\n",
       "      <td>8.734139782C</td>\n",
       "      <td>58.319107</td>\n",
       "      <td>9.111623</td>\n",
       "      <td>27.71516126mph</td>\n",
       "    </tr>\n",
       "    <tr>\n",
       "      <th>2</th>\n",
       "      <td>11-05-2024 09:30</td>\n",
       "      <td>San Diego</td>\n",
       "      <td>11.63243631</td>\n",
       "      <td>38.820175</td>\n",
       "      <td>4.607511</td>\n",
       "      <td>28.73295129</td>\n",
       "    </tr>\n",
       "    <tr>\n",
       "      <th>3</th>\n",
       "      <td>26-02-2024 17:32</td>\n",
       "      <td>Philadelphia</td>\n",
       "      <td>-8.628975896</td>\n",
       "      <td>-999999.000000</td>\n",
       "      <td>3.183720</td>\n",
       "      <td>26.36730267</td>\n",
       "    </tr>\n",
       "  </tbody>\n",
       "</table>\n",
       "</div>"
      ],
      "text/plain": [
       "          Date_Time      Location Temperature_C   Humidity_pct  \\\n",
       "0  14-01-2024 21:12     San Diego       -999999      41.195754   \n",
       "1  17-05-2024 15:22     San Diego  8.734139782C      58.319107   \n",
       "2  11-05-2024 09:30     San Diego   11.63243631      38.820175   \n",
       "3  26-02-2024 17:32  Philadelphia  -8.628975896 -999999.000000   \n",
       "\n",
       "   Precipitation_mm  Wind_Speed_kmh  \n",
       "0          4.020119  8.233540247mph  \n",
       "1          9.111623  27.71516126mph  \n",
       "2          4.607511     28.73295129  \n",
       "3          3.183720     26.36730267  "
      ]
     },
     "execution_count": 15,
     "metadata": {},
     "output_type": "execute_result"
    }
   ],
   "source": [
    "df.reset_index(inplace=True)\n",
    "df"
   ]
  }
 ],
 "metadata": {
  "kernelspec": {
   "display_name": "Python 3",
   "language": "python",
   "name": "python3"
  },
  "language_info": {
   "codemirror_mode": {
    "name": "ipython",
    "version": 3
   },
   "file_extension": ".py",
   "mimetype": "text/x-python",
   "name": "python",
   "nbconvert_exporter": "python",
   "pygments_lexer": "ipython3",
   "version": "3.12.4"
  }
 },
 "nbformat": 4,
 "nbformat_minor": 2
}
