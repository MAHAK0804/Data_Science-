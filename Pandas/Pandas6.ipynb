{
 "cells": [
  {
   "cell_type": "code",
   "execution_count": 1,
   "metadata": {},
   "outputs": [
    {
     "data": {
      "text/html": [
       "<div>\n",
       "<style scoped>\n",
       "    .dataframe tbody tr th:only-of-type {\n",
       "        vertical-align: middle;\n",
       "    }\n",
       "\n",
       "    .dataframe tbody tr th {\n",
       "        vertical-align: top;\n",
       "    }\n",
       "\n",
       "    .dataframe thead th {\n",
       "        text-align: right;\n",
       "    }\n",
       "</style>\n",
       "<table border=\"1\" class=\"dataframe\">\n",
       "  <thead>\n",
       "    <tr style=\"text-align: right;\">\n",
       "      <th></th>\n",
       "      <th>Location</th>\n",
       "      <th>Date_Time</th>\n",
       "      <th>Temperature_C</th>\n",
       "      <th>Humidity_pct</th>\n",
       "      <th>Precipitation_mm</th>\n",
       "      <th>Wind_Speed_kmh</th>\n",
       "    </tr>\n",
       "  </thead>\n",
       "  <tbody>\n",
       "    <tr>\n",
       "      <th>0</th>\n",
       "      <td>San Diego</td>\n",
       "      <td>14-01-2024 21:12</td>\n",
       "      <td>-999999</td>\n",
       "      <td>41.195754</td>\n",
       "      <td>4.020119</td>\n",
       "      <td>8.233540247mph</td>\n",
       "    </tr>\n",
       "    <tr>\n",
       "      <th>1</th>\n",
       "      <td>San Diego</td>\n",
       "      <td>17-05-2024 15:22</td>\n",
       "      <td>8.734139782C</td>\n",
       "      <td>58.319107</td>\n",
       "      <td>9.111623</td>\n",
       "      <td>27.71516126mph</td>\n",
       "    </tr>\n",
       "    <tr>\n",
       "      <th>2</th>\n",
       "      <td>San Diego</td>\n",
       "      <td>11-05-2024 09:30</td>\n",
       "      <td>11.63243631</td>\n",
       "      <td>38.820175</td>\n",
       "      <td>4.607511</td>\n",
       "      <td>28.73295129</td>\n",
       "    </tr>\n",
       "    <tr>\n",
       "      <th>3</th>\n",
       "      <td>Philadelphia</td>\n",
       "      <td>26-02-2024 17:32</td>\n",
       "      <td>-8.628975896</td>\n",
       "      <td>-999999.000000</td>\n",
       "      <td>3.183720</td>\n",
       "      <td>26.36730267</td>\n",
       "    </tr>\n",
       "  </tbody>\n",
       "</table>\n",
       "</div>"
      ],
      "text/plain": [
       "       Location         Date_Time Temperature_C   Humidity_pct  \\\n",
       "0     San Diego  14-01-2024 21:12       -999999      41.195754   \n",
       "1     San Diego  17-05-2024 15:22  8.734139782C      58.319107   \n",
       "2     San Diego  11-05-2024 09:30   11.63243631      38.820175   \n",
       "3  Philadelphia  26-02-2024 17:32  -8.628975896 -999999.000000   \n",
       "\n",
       "   Precipitation_mm  Wind_Speed_kmh  \n",
       "0          4.020119  8.233540247mph  \n",
       "1          9.111623  27.71516126mph  \n",
       "2          4.607511     28.73295129  \n",
       "3          3.183720     26.36730267  "
      ]
     },
     "execution_count": 1,
     "metadata": {},
     "output_type": "execute_result"
    }
   ],
   "source": [
    "import pandas as pd\n",
    "df = pd.read_csv('C:\\\\Users\\\\Hp\\\\Desktop\\\\Data_science-main\\\\Datasets\\\\weather_data.csv')\n",
    "df"
   ]
  },
  {
   "cell_type": "code",
   "execution_count": 2,
   "metadata": {},
   "outputs": [
    {
     "data": {
      "text/plain": [
       "<pandas.core.groupby.generic.DataFrameGroupBy object at 0x0000025BB0236ED0>"
      ]
     },
     "execution_count": 2,
     "metadata": {},
     "output_type": "execute_result"
    }
   ],
   "source": [
    "g = df.groupby('Location')\n",
    "g"
   ]
  },
  {
   "cell_type": "code",
   "execution_count": 3,
   "metadata": {},
   "outputs": [
    {
     "name": "stdout",
     "output_type": "stream",
     "text": [
      "Philadelphia\n",
      "       Location         Date_Time Temperature_C  Humidity_pct  \\\n",
      "3  Philadelphia  26-02-2024 17:32  -8.628975896     -999999.0   \n",
      "\n",
      "   Precipitation_mm Wind_Speed_kmh  \n",
      "3           3.18372    26.36730267  \n",
      "San Diego\n",
      "    Location         Date_Time Temperature_C  Humidity_pct  Precipitation_mm  \\\n",
      "0  San Diego  14-01-2024 21:12       -999999     41.195754          4.020119   \n",
      "1  San Diego  17-05-2024 15:22  8.734139782C     58.319107          9.111623   \n",
      "2  San Diego  11-05-2024 09:30   11.63243631     38.820175          4.607511   \n",
      "\n",
      "   Wind_Speed_kmh  \n",
      "0  8.233540247mph  \n",
      "1  27.71516126mph  \n",
      "2     28.73295129  \n"
     ]
    }
   ],
   "source": [
    "for Location, Location_df in g:\n",
    "    print(Location)\n",
    "    print(Location_df)"
   ]
  },
  {
   "cell_type": "code",
   "execution_count": 4,
   "metadata": {},
   "outputs": [
    {
     "data": {
      "text/html": [
       "<div>\n",
       "<style scoped>\n",
       "    .dataframe tbody tr th:only-of-type {\n",
       "        vertical-align: middle;\n",
       "    }\n",
       "\n",
       "    .dataframe tbody tr th {\n",
       "        vertical-align: top;\n",
       "    }\n",
       "\n",
       "    .dataframe thead th {\n",
       "        text-align: right;\n",
       "    }\n",
       "</style>\n",
       "<table border=\"1\" class=\"dataframe\">\n",
       "  <thead>\n",
       "    <tr style=\"text-align: right;\">\n",
       "      <th></th>\n",
       "      <th>Location</th>\n",
       "      <th>Date_Time</th>\n",
       "      <th>Temperature_C</th>\n",
       "      <th>Humidity_pct</th>\n",
       "      <th>Precipitation_mm</th>\n",
       "      <th>Wind_Speed_kmh</th>\n",
       "    </tr>\n",
       "  </thead>\n",
       "  <tbody>\n",
       "    <tr>\n",
       "      <th>0</th>\n",
       "      <td>San Diego</td>\n",
       "      <td>14-01-2024 21:12</td>\n",
       "      <td>-999999</td>\n",
       "      <td>41.195754</td>\n",
       "      <td>4.020119</td>\n",
       "      <td>8.233540247mph</td>\n",
       "    </tr>\n",
       "    <tr>\n",
       "      <th>1</th>\n",
       "      <td>San Diego</td>\n",
       "      <td>17-05-2024 15:22</td>\n",
       "      <td>8.734139782C</td>\n",
       "      <td>58.319107</td>\n",
       "      <td>9.111623</td>\n",
       "      <td>27.71516126mph</td>\n",
       "    </tr>\n",
       "    <tr>\n",
       "      <th>2</th>\n",
       "      <td>San Diego</td>\n",
       "      <td>11-05-2024 09:30</td>\n",
       "      <td>11.63243631</td>\n",
       "      <td>38.820175</td>\n",
       "      <td>4.607511</td>\n",
       "      <td>28.73295129</td>\n",
       "    </tr>\n",
       "  </tbody>\n",
       "</table>\n",
       "</div>"
      ],
      "text/plain": [
       "    Location         Date_Time Temperature_C  Humidity_pct  Precipitation_mm  \\\n",
       "0  San Diego  14-01-2024 21:12       -999999     41.195754          4.020119   \n",
       "1  San Diego  17-05-2024 15:22  8.734139782C     58.319107          9.111623   \n",
       "2  San Diego  11-05-2024 09:30   11.63243631     38.820175          4.607511   \n",
       "\n",
       "   Wind_Speed_kmh  \n",
       "0  8.233540247mph  \n",
       "1  27.71516126mph  \n",
       "2     28.73295129  "
      ]
     },
     "execution_count": 4,
     "metadata": {},
     "output_type": "execute_result"
    }
   ],
   "source": [
    "g.get_group('San Diego')"
   ]
  },
  {
   "cell_type": "code",
   "execution_count": 5,
   "metadata": {},
   "outputs": [
    {
     "data": {
      "text/html": [
       "<div>\n",
       "<style scoped>\n",
       "    .dataframe tbody tr th:only-of-type {\n",
       "        vertical-align: middle;\n",
       "    }\n",
       "\n",
       "    .dataframe tbody tr th {\n",
       "        vertical-align: top;\n",
       "    }\n",
       "\n",
       "    .dataframe thead th {\n",
       "        text-align: right;\n",
       "    }\n",
       "</style>\n",
       "<table border=\"1\" class=\"dataframe\">\n",
       "  <thead>\n",
       "    <tr style=\"text-align: right;\">\n",
       "      <th></th>\n",
       "      <th>Date_Time</th>\n",
       "      <th>Temperature_C</th>\n",
       "      <th>Humidity_pct</th>\n",
       "      <th>Precipitation_mm</th>\n",
       "      <th>Wind_Speed_kmh</th>\n",
       "    </tr>\n",
       "    <tr>\n",
       "      <th>Location</th>\n",
       "      <th></th>\n",
       "      <th></th>\n",
       "      <th></th>\n",
       "      <th></th>\n",
       "      <th></th>\n",
       "    </tr>\n",
       "  </thead>\n",
       "  <tbody>\n",
       "    <tr>\n",
       "      <th>Philadelphia</th>\n",
       "      <td>26-02-2024 17:32</td>\n",
       "      <td>-8.628975896</td>\n",
       "      <td>-999999.000000</td>\n",
       "      <td>3.183720</td>\n",
       "      <td>26.36730267</td>\n",
       "    </tr>\n",
       "    <tr>\n",
       "      <th>San Diego</th>\n",
       "      <td>17-05-2024 15:22</td>\n",
       "      <td>8.734139782C</td>\n",
       "      <td>58.319107</td>\n",
       "      <td>9.111623</td>\n",
       "      <td>8.233540247mph</td>\n",
       "    </tr>\n",
       "  </tbody>\n",
       "</table>\n",
       "</div>"
      ],
      "text/plain": [
       "                     Date_Time Temperature_C   Humidity_pct  Precipitation_mm  \\\n",
       "Location                                                                        \n",
       "Philadelphia  26-02-2024 17:32  -8.628975896 -999999.000000          3.183720   \n",
       "San Diego     17-05-2024 15:22  8.734139782C      58.319107          9.111623   \n",
       "\n",
       "              Wind_Speed_kmh  \n",
       "Location                      \n",
       "Philadelphia     26.36730267  \n",
       "San Diego     8.233540247mph  "
      ]
     },
     "execution_count": 5,
     "metadata": {},
     "output_type": "execute_result"
    }
   ],
   "source": [
    "g.max()"
   ]
  },
  {
   "cell_type": "code",
   "execution_count": 7,
   "metadata": {},
   "outputs": [],
   "source": [
    "# g.mean()"
   ]
  },
  {
   "cell_type": "code",
   "execution_count": 8,
   "metadata": {},
   "outputs": [
    {
     "data": {
      "text/html": [
       "<div>\n",
       "<style scoped>\n",
       "    .dataframe tbody tr th:only-of-type {\n",
       "        vertical-align: middle;\n",
       "    }\n",
       "\n",
       "    .dataframe tbody tr th {\n",
       "        vertical-align: top;\n",
       "    }\n",
       "\n",
       "    .dataframe thead tr th {\n",
       "        text-align: left;\n",
       "    }\n",
       "\n",
       "    .dataframe thead tr:last-of-type th {\n",
       "        text-align: right;\n",
       "    }\n",
       "</style>\n",
       "<table border=\"1\" class=\"dataframe\">\n",
       "  <thead>\n",
       "    <tr>\n",
       "      <th></th>\n",
       "      <th colspan=\"8\" halign=\"left\">Humidity_pct</th>\n",
       "      <th colspan=\"8\" halign=\"left\">Precipitation_mm</th>\n",
       "    </tr>\n",
       "    <tr>\n",
       "      <th></th>\n",
       "      <th>count</th>\n",
       "      <th>mean</th>\n",
       "      <th>std</th>\n",
       "      <th>min</th>\n",
       "      <th>25%</th>\n",
       "      <th>50%</th>\n",
       "      <th>75%</th>\n",
       "      <th>max</th>\n",
       "      <th>count</th>\n",
       "      <th>mean</th>\n",
       "      <th>std</th>\n",
       "      <th>min</th>\n",
       "      <th>25%</th>\n",
       "      <th>50%</th>\n",
       "      <th>75%</th>\n",
       "      <th>max</th>\n",
       "    </tr>\n",
       "    <tr>\n",
       "      <th>Location</th>\n",
       "      <th></th>\n",
       "      <th></th>\n",
       "      <th></th>\n",
       "      <th></th>\n",
       "      <th></th>\n",
       "      <th></th>\n",
       "      <th></th>\n",
       "      <th></th>\n",
       "      <th></th>\n",
       "      <th></th>\n",
       "      <th></th>\n",
       "      <th></th>\n",
       "      <th></th>\n",
       "      <th></th>\n",
       "      <th></th>\n",
       "      <th></th>\n",
       "    </tr>\n",
       "  </thead>\n",
       "  <tbody>\n",
       "    <tr>\n",
       "      <th>Philadelphia</th>\n",
       "      <td>1.0</td>\n",
       "      <td>-999999.000000</td>\n",
       "      <td>NaN</td>\n",
       "      <td>-999999.000000</td>\n",
       "      <td>-999999.000000</td>\n",
       "      <td>-999999.000000</td>\n",
       "      <td>-999999.00000</td>\n",
       "      <td>-999999.000000</td>\n",
       "      <td>1.0</td>\n",
       "      <td>3.183720</td>\n",
       "      <td>NaN</td>\n",
       "      <td>3.183720</td>\n",
       "      <td>3.183720</td>\n",
       "      <td>3.183720</td>\n",
       "      <td>3.183720</td>\n",
       "      <td>3.183720</td>\n",
       "    </tr>\n",
       "    <tr>\n",
       "      <th>San Diego</th>\n",
       "      <td>3.0</td>\n",
       "      <td>46.111679</td>\n",
       "      <td>10.63846</td>\n",
       "      <td>38.820175</td>\n",
       "      <td>40.007964</td>\n",
       "      <td>41.195754</td>\n",
       "      <td>49.75743</td>\n",
       "      <td>58.319107</td>\n",
       "      <td>3.0</td>\n",
       "      <td>5.913085</td>\n",
       "      <td>2.785542</td>\n",
       "      <td>4.020119</td>\n",
       "      <td>4.313815</td>\n",
       "      <td>4.607511</td>\n",
       "      <td>6.859567</td>\n",
       "      <td>9.111623</td>\n",
       "    </tr>\n",
       "  </tbody>\n",
       "</table>\n",
       "</div>"
      ],
      "text/plain": [
       "             Humidity_pct                                          \\\n",
       "                    count           mean       std            min   \n",
       "Location                                                            \n",
       "Philadelphia          1.0 -999999.000000       NaN -999999.000000   \n",
       "San Diego             3.0      46.111679  10.63846      38.820175   \n",
       "\n",
       "                                                                         \\\n",
       "                        25%            50%           75%            max   \n",
       "Location                                                                  \n",
       "Philadelphia -999999.000000 -999999.000000 -999999.00000 -999999.000000   \n",
       "San Diego         40.007964      41.195754      49.75743      58.319107   \n",
       "\n",
       "             Precipitation_mm                                          \\\n",
       "                        count      mean       std       min       25%   \n",
       "Location                                                                \n",
       "Philadelphia              1.0  3.183720       NaN  3.183720  3.183720   \n",
       "San Diego                 3.0  5.913085  2.785542  4.020119  4.313815   \n",
       "\n",
       "                                            \n",
       "                   50%       75%       max  \n",
       "Location                                    \n",
       "Philadelphia  3.183720  3.183720  3.183720  \n",
       "San Diego     4.607511  6.859567  9.111623  "
      ]
     },
     "execution_count": 8,
     "metadata": {},
     "output_type": "execute_result"
    }
   ],
   "source": [
    "g.describe()"
   ]
  },
  {
   "cell_type": "code",
   "execution_count": 11,
   "metadata": {},
   "outputs": [
    {
     "data": {
      "text/plain": [
       "Location\n",
       "Philadelphia    Axes(0.125,0.11;0.775x0.77)\n",
       "San Diego       Axes(0.125,0.11;0.775x0.77)\n",
       "dtype: object"
      ]
     },
     "execution_count": 11,
     "metadata": {},
     "output_type": "execute_result"
    },
    {
     "data": {
      "image/png": "[encoded data removed]",
      "text/plain": [
       "<Figure size 640x480 with 1 Axes>"
      ]
     },
     "metadata": {},
     "output_type": "display_data"
    },
    {
     "data": {
      "image/png": "[encoded data removed]",
      "text/plain": [
       "<Figure size 640x480 with 1 Axes>"
      ]
     },
     "metadata": {},
     "output_type": "display_data"
    }
   ],
   "source": [
    "%matplotlib inline\n",
    "g.plot()"
   ]
  }
 ],
 "metadata": {
  "kernelspec": {
   "display_name": "Python 3",
   "language": "python",
   "name": "python3"
  },
  "language_info": {
   "codemirror_mode": {
    "name": "ipython",
    "version": 3
   },
   "file_extension": ".py",
   "mimetype": "text/x-python",
   "name": "python",
   "nbconvert_exporter": "python",
   "pygments_lexer": "ipython3",
   "version": "3.12.4"
  }
 },
 "nbformat": 4,
 "nbformat_minor": 2
}
